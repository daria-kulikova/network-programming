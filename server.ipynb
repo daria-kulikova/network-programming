{
 "cells": [
  {
   "cell_type": "code",
   "execution_count": 5,
   "metadata": {},
   "outputs": [],
   "source": [
    "import socket\n",
    "import string\n",
    "import pickle\n",
    "import random"
   ]
  },
  {
   "cell_type": "code",
   "execution_count": 6,
   "metadata": {},
   "outputs": [],
   "source": [
    "def get_control_bits(word_length):\n",
    "    control_bits = []\n",
    "    bit = 1\n",
    "    while bit < word_length + len(control_bits):\n",
    "        if not bit & (bit - 1):\n",
    "            control_bits.append(bit - 1)\n",
    "        bit += 1\n",
    "    return control_bits\n",
    "\n",
    "\n",
    "\n",
    "def get_words(data, word_length, control_bits_number):\n",
    "    for i in range(len(data)):\n",
    "        if not i % (word_length + control_bits_number):\n",
    "            yield data[i:i + word_length  + control_bits_number]\n",
    "            \n",
    "            \n",
    "            \n",
    "def hamming_decode(word, control_bits):\n",
    "    bad_index = 0\n",
    "    pow2 = 1\n",
    "    for control_bit_index in range(len(control_bits)):\n",
    "        control_bit = control_bits[control_bit_index]\n",
    "        ones_number = 0\n",
    "        for i in range(len(word) - control_bit):\n",
    "            if i % (pow2 * 2) >= pow2:\n",
    "                continue\n",
    "            if word[control_bit + i] == '1':\n",
    "                ones_number ^= 1\n",
    "        if ones_number == 1:\n",
    "            bad_index |= (1 << control_bit_index)\n",
    "        pow2 *= 2\n",
    "    return bad_index\n",
    "            \n",
    "    \n",
    "    \n",
    "def message_processing(message, word_length):\n",
    "    control_bits = get_control_bits(word_length)\n",
    "    mistakes = []\n",
    "    corrected_message = ''\n",
    "    correctly_delivered = 0\n",
    "    uncorrectly_delivered = 0\n",
    "    word_index = 0\n",
    "    for word in get_words(message, word_length, len(control_bits)):\n",
    "        bad_index = hamming_decode(word, control_bits)\n",
    "        if bad_index != 0:\n",
    "            uncorrectly_delivered += 1\n",
    "            bad_index -= 1\n",
    "            if bad_index > len(word):\n",
    "                bad_index = \"Множественная ошибка\"\n",
    "            #else:\n",
    "            #    s = '0'\n",
    "            #    if word[bad_index] == '0':\n",
    "            #        s = '1'\n",
    "            #    word = word[:bad_index] + s + word[bad_index+1:]\n",
    "            mistakes.append((word_index, bad_index))\n",
    "        else:\n",
    "            correctly_delivered += 1\n",
    "        #corrected_message += word\n",
    "        word_index += 1\n",
    "    return mistakes, correctly_delivered, uncorrectly_delivered"
   ]
  },
  {
   "cell_type": "code",
   "execution_count": 7,
   "metadata": {},
   "outputs": [],
   "source": [
    "host = \"127.0.0.1\"\n",
    "port = 8\n",
    "srv = socket.socket(socket.AF_INET, socket.SOCK_STREAM)\n",
    "srv.bind((host, port))"
   ]
  },
  {
   "cell_type": "code",
   "execution_count": null,
   "metadata": {},
   "outputs": [
    {
     "name": "stdout",
     "output_type": "stream",
     "text": [
      "Сообщение получено\n",
      "Ответ отправлен\n",
      "Сообщение получено\n",
      "Ответ отправлен\n"
     ]
    }
   ],
   "source": [
    "while True:\n",
    "    srv.listen(True)\n",
    "    sock, address = srv.accept()\n",
    "    while True:\n",
    "        received = sock.recv(1024)\n",
    "        if not received:\n",
    "            break\n",
    "        message, word_length = pickle.loads(received)\n",
    "        print('Сообщение получено')\n",
    "        answer = message_processing(message, word_length)\n",
    "        sock.send(pickle.dumps(answer))\n",
    "        print('Ответ отправлен')\n",
    "    sock.close()"
   ]
  },
  {
   "cell_type": "code",
   "execution_count": null,
   "metadata": {},
   "outputs": [],
   "source": []
  }
 ],
 "metadata": {
  "kernelspec": {
   "display_name": "Python 3",
   "language": "python",
   "name": "python3"
  },
  "language_info": {
   "codemirror_mode": {
    "name": "ipython",
    "version": 3
   },
   "file_extension": ".py",
   "mimetype": "text/x-python",
   "name": "python",
   "nbconvert_exporter": "python",
   "pygments_lexer": "ipython3",
   "version": "3.7.1"
  }
 },
 "nbformat": 4,
 "nbformat_minor": 4
}
